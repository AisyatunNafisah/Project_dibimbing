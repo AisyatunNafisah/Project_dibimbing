{
  "nbformat": 4,
  "nbformat_minor": 0,
  "metadata": {
    "colab": {
      "provenance": [],
      "authorship_tag": "ABX9TyOSqMbbEoatZCr2X/cuwoHR",
      "include_colab_link": true
    },
    "kernelspec": {
      "name": "python3",
      "display_name": "Python 3"
    },
    "language_info": {
      "name": "python"
    }
  },
  "cells": [
    {
      "cell_type": "markdown",
      "metadata": {
        "id": "view-in-github",
        "colab_type": "text"
      },
      "source": [
        "<a href=\"https://colab.research.google.com/github/AisyatunNafisah/Project_dibimbing/blob/main/AisyatunNafisah_program_input_nilai_dibimbing.ipynb\" target=\"_parent\"><img src=\"https://colab.research.google.com/assets/colab-badge.svg\" alt=\"Open In Colab\"/></a>"
      ]
    },
    {
      "cell_type": "markdown",
      "source": [
        "1. Buatlah sebuah program yang:\n",
        "Meminta input dari pengguna:\n",
        "\n",
        "Nama mahasiswa\n",
        "\n",
        "NIM mahasiswa\n",
        "\n",
        "Nilai ujian (dalam angka, 0–100)\n",
        "\n",
        "2. Cek dan tampilkan tipe data dari setiap input.\n",
        "\n",
        "3. Gunakan if-elif-else untuk menentukan kategori nilai, dengan kriteria sebagai berikut:\n",
        "\n",
        "Nilai | Kategori\n",
        "\n",
        "85 - 100 | A (Sangat Baik)\n",
        "\n",
        "75 - 84 | B (Baik)\n",
        "\n",
        "60 - 74 | C (Cukup)\n",
        "\n",
        "40 - 59 | D (Kurang)\n",
        "\n",
        "< 40 | E (Sangat Kurang)"
      ],
      "metadata": {
        "id": "Wk0pHAi8Y9fY"
      }
    },
    {
      "cell_type": "code",
      "source": [
        "# --- Input dari Pengguna ---\n",
        "nama_mahasiswa = input(\"Masukkan nama mahasiswa: \")\n",
        "nim_mahasiswa = input(\"Masukkan NIM: \")\n",
        "\n",
        "# Menggunakan try-except untuk memastikan input nilai adalah angka\n",
        "while True:\n",
        "    try:\n",
        "        nilai_ujian = float(input(\"Masukkan nilai ujian (0-100): \"))\n",
        "        if 0 <= nilai_ujian <= 100:\n",
        "            break # Keluar dari loop jika nilai valid\n",
        "        else:\n",
        "            print(\"Nilai harus antara 0 dan 100. Silakan coba lagi.\")\n",
        "    except ValueError:\n",
        "        print(\"Input tidak valid. Harap masukkan angka untuk nilai.\")\n",
        "\n",
        "# --- Tampilkan Tipe Data Input ---\n",
        "print(f\"\\nNama: {nama_mahasiswa} (type: {type(nama_mahasiswa)})\")\n",
        "print(f\"NIM: {nim_mahasiswa} (type: {type(nim_mahasiswa)})\")\n",
        "print(f\"Nilai: {nilai_ujian} (type: {type(nilai_ujian)})\")\n",
        "\n",
        "# --- Menentukan Kategori Nilai ---\n",
        "kategori_nilai = \"\"\n",
        "if 85 <= nilai_ujian <= 100:\n",
        "    kategori_nilai = \"A (Sangat Baik)\"\n",
        "elif 75 <= nilai_ujian <= 84:\n",
        "    kategori_nilai = \"B (Baik)\"\n",
        "elif 60 <= nilai_ujian <= 74:\n",
        "    kategori_nilai = \"C (Cukup)\"\n",
        "elif 40 <= nilai_ujian <= 59:\n",
        "    kategori_nilai = \"D (Kurang)\"\n",
        "else: # nilai_ujian < 40\n",
        "    kategori_nilai = \"E (Sangat Kurang)\"\n",
        "\n",
        "# --- Tampilkan Hasil Evaluasi ---\n",
        "print(\"\\nHasil Evaluasi:\")\n",
        "print(f\"Mahasiswa: {nama_mahasiswa} (NIM: {nim_mahasiswa})\")\n",
        "print(f\"Nilai Ujian: {nilai_ujian}\")\n",
        "print(f\"Kategori Nilai: {kategori_nilai}\")"
      ],
      "metadata": {
        "colab": {
          "base_uri": "https://localhost:8080/"
        },
        "id": "oh04jmi2ZO5I",
        "outputId": "40804675-9b8e-48bd-beb2-3dcd63ac7133"
      },
      "execution_count": 2,
      "outputs": [
        {
          "output_type": "stream",
          "name": "stdout",
          "text": [
            "Masukkan nama mahasiswa: sarah\n",
            "Masukkan NIM: 123456\n",
            "Masukkan nilai ujian (0-100): 78,9\n",
            "Input tidak valid. Harap masukkan angka untuk nilai.\n",
            "Masukkan nilai ujian (0-100): 78.9\n",
            "\n",
            "Nama: sarah (type: <class 'str'>)\n",
            "NIM: 123456 (type: <class 'str'>)\n",
            "Nilai: 78.9 (type: <class 'float'>)\n",
            "\n",
            "Hasil Evaluasi:\n",
            "Mahasiswa: sarah (NIM: 123456)\n",
            "Nilai Ujian: 78.9\n",
            "Kategori Nilai: B (Baik)\n"
          ]
        }
      ]
    }
  ]
}